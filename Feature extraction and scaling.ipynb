{
 "cells": [
  {
   "cell_type": "markdown",
   "id": "0afc2405",
   "metadata": {},
   "source": [
    "# question 1\n",
    "\n",
    "Min-Max scaling, also known as normalization, is a popular data preprocessing technique used to transform numeric features in a dataset to a specific range, typically between 0 and 1. It rescales the values by subtracting the minimum value and dividing by the difference between the maximum and minimum values. Min Max scaling is generally used in case of scaling images that is in Deep Learning."
   ]
  },
  {
   "cell_type": "code",
   "execution_count": 1,
   "id": "2cece32b",
   "metadata": {},
   "outputs": [],
   "source": [
    "from sklearn.preprocessing import MinMaxScaler\n",
    "import pandas as pd"
   ]
  },
  {
   "cell_type": "code",
   "execution_count": 2,
   "id": "4853d576",
   "metadata": {},
   "outputs": [],
   "source": [
    "df = pd.DataFrame({\n",
    "    'height' : [130 , 120 , 144 , 122 ,110],\n",
    "    'weight' : [34 , 54 , 75, 80 , 66]\n",
    "})"
   ]
  },
  {
   "cell_type": "code",
   "execution_count": 3,
   "id": "c00f2cc4",
   "metadata": {},
   "outputs": [
    {
     "data": {
      "text/html": [
       "<div>\n",
       "<style scoped>\n",
       "    .dataframe tbody tr th:only-of-type {\n",
       "        vertical-align: middle;\n",
       "    }\n",
       "\n",
       "    .dataframe tbody tr th {\n",
       "        vertical-align: top;\n",
       "    }\n",
       "\n",
       "    .dataframe thead th {\n",
       "        text-align: right;\n",
       "    }\n",
       "</style>\n",
       "<table border=\"1\" class=\"dataframe\">\n",
       "  <thead>\n",
       "    <tr style=\"text-align: right;\">\n",
       "      <th></th>\n",
       "      <th>height</th>\n",
       "      <th>weight</th>\n",
       "    </tr>\n",
       "  </thead>\n",
       "  <tbody>\n",
       "    <tr>\n",
       "      <th>0</th>\n",
       "      <td>130</td>\n",
       "      <td>34</td>\n",
       "    </tr>\n",
       "    <tr>\n",
       "      <th>1</th>\n",
       "      <td>120</td>\n",
       "      <td>54</td>\n",
       "    </tr>\n",
       "    <tr>\n",
       "      <th>2</th>\n",
       "      <td>144</td>\n",
       "      <td>75</td>\n",
       "    </tr>\n",
       "    <tr>\n",
       "      <th>3</th>\n",
       "      <td>122</td>\n",
       "      <td>80</td>\n",
       "    </tr>\n",
       "    <tr>\n",
       "      <th>4</th>\n",
       "      <td>110</td>\n",
       "      <td>66</td>\n",
       "    </tr>\n",
       "  </tbody>\n",
       "</table>\n",
       "</div>"
      ],
      "text/plain": [
       "   height  weight\n",
       "0     130      34\n",
       "1     120      54\n",
       "2     144      75\n",
       "3     122      80\n",
       "4     110      66"
      ]
     },
     "execution_count": 3,
     "metadata": {},
     "output_type": "execute_result"
    }
   ],
   "source": [
    "df"
   ]
  },
  {
   "cell_type": "code",
   "execution_count": 4,
   "id": "62b5d5e9",
   "metadata": {},
   "outputs": [],
   "source": [
    "#create an instance for MinMaxScalar\n",
    "scalar = MinMaxScaler()"
   ]
  },
  {
   "cell_type": "code",
   "execution_count": 5,
   "id": "afcb2542",
   "metadata": {},
   "outputs": [
    {
     "data": {
      "text/plain": [
       "array([[0.58823529, 0.        ],\n",
       "       [0.29411765, 0.43478261],\n",
       "       [1.        , 0.89130435],\n",
       "       [0.35294118, 1.        ],\n",
       "       [0.        , 0.69565217]])"
      ]
     },
     "execution_count": 5,
     "metadata": {},
     "output_type": "execute_result"
    }
   ],
   "source": [
    "#fit and transform the data\n",
    "scalar.fit_transform(df)"
   ]
  },
  {
   "cell_type": "code",
   "execution_count": 7,
   "id": "0b6b7ad8",
   "metadata": {},
   "outputs": [
    {
     "data": {
      "text/html": [
       "<div>\n",
       "<style scoped>\n",
       "    .dataframe tbody tr th:only-of-type {\n",
       "        vertical-align: middle;\n",
       "    }\n",
       "\n",
       "    .dataframe tbody tr th {\n",
       "        vertical-align: top;\n",
       "    }\n",
       "\n",
       "    .dataframe thead th {\n",
       "        text-align: right;\n",
       "    }\n",
       "</style>\n",
       "<table border=\"1\" class=\"dataframe\">\n",
       "  <thead>\n",
       "    <tr style=\"text-align: right;\">\n",
       "      <th></th>\n",
       "      <th>scaled_height</th>\n",
       "      <th>scaled_weight</th>\n",
       "    </tr>\n",
       "  </thead>\n",
       "  <tbody>\n",
       "    <tr>\n",
       "      <th>0</th>\n",
       "      <td>0.588235</td>\n",
       "      <td>0.000000</td>\n",
       "    </tr>\n",
       "    <tr>\n",
       "      <th>1</th>\n",
       "      <td>0.294118</td>\n",
       "      <td>0.434783</td>\n",
       "    </tr>\n",
       "    <tr>\n",
       "      <th>2</th>\n",
       "      <td>1.000000</td>\n",
       "      <td>0.891304</td>\n",
       "    </tr>\n",
       "    <tr>\n",
       "      <th>3</th>\n",
       "      <td>0.352941</td>\n",
       "      <td>1.000000</td>\n",
       "    </tr>\n",
       "    <tr>\n",
       "      <th>4</th>\n",
       "      <td>0.000000</td>\n",
       "      <td>0.695652</td>\n",
       "    </tr>\n",
       "  </tbody>\n",
       "</table>\n",
       "</div>"
      ],
      "text/plain": [
       "   scaled_height  scaled_weight\n",
       "0       0.588235       0.000000\n",
       "1       0.294118       0.434783\n",
       "2       1.000000       0.891304\n",
       "3       0.352941       1.000000\n",
       "4       0.000000       0.695652"
      ]
     },
     "execution_count": 7,
     "metadata": {},
     "output_type": "execute_result"
    }
   ],
   "source": [
    "scaled_df = pd.DataFrame(scalar.fit_transform(df) , columns = ['scaled_height' , 'scaled_weight'])\n",
    "scaled_df"
   ]
  },
  {
   "cell_type": "markdown",
   "id": "87fbfbd9",
   "metadata": {},
   "source": [
    "# question 2\n",
    "The Unit Vector technique, also known as normalization or vector normalization, is another feature scaling method used to transform numeric features in a dataset. Unlike Min-Max scaling, which scales the values to a specific range, the Unit Vector technique scales the values to have a magnitude of 1 while preserving their direction.By using the Unit Vector technique, we ensure that the magnitude of the vector becomes 1 while preserving the relative direction of the values. This scaling technique is particularly useful when the direction of the values is more important than their actual magnitude.\n",
    "\n"
   ]
  },
  {
   "cell_type": "code",
   "execution_count": 8,
   "id": "d122ff95",
   "metadata": {},
   "outputs": [],
   "source": [
    "from sklearn.preprocessing import normalize\n",
    "import pandas as pd"
   ]
  },
  {
   "cell_type": "code",
   "execution_count": 10,
   "id": "cab7462f",
   "metadata": {},
   "outputs": [
    {
     "data": {
      "text/html": [
       "<div>\n",
       "<style scoped>\n",
       "    .dataframe tbody tr th:only-of-type {\n",
       "        vertical-align: middle;\n",
       "    }\n",
       "\n",
       "    .dataframe tbody tr th {\n",
       "        vertical-align: top;\n",
       "    }\n",
       "\n",
       "    .dataframe thead th {\n",
       "        text-align: right;\n",
       "    }\n",
       "</style>\n",
       "<table border=\"1\" class=\"dataframe\">\n",
       "  <thead>\n",
       "    <tr style=\"text-align: right;\">\n",
       "      <th></th>\n",
       "      <th>X</th>\n",
       "      <th>Y</th>\n",
       "    </tr>\n",
       "  </thead>\n",
       "  <tbody>\n",
       "    <tr>\n",
       "      <th>0</th>\n",
       "      <td>3</td>\n",
       "      <td>4</td>\n",
       "    </tr>\n",
       "    <tr>\n",
       "      <th>1</th>\n",
       "      <td>1</td>\n",
       "      <td>2</td>\n",
       "    </tr>\n",
       "    <tr>\n",
       "      <th>2</th>\n",
       "      <td>5</td>\n",
       "      <td>6</td>\n",
       "    </tr>\n",
       "    <tr>\n",
       "      <th>3</th>\n",
       "      <td>2</td>\n",
       "      <td>1</td>\n",
       "    </tr>\n",
       "    <tr>\n",
       "      <th>4</th>\n",
       "      <td>4</td>\n",
       "      <td>3</td>\n",
       "    </tr>\n",
       "  </tbody>\n",
       "</table>\n",
       "</div>"
      ],
      "text/plain": [
       "   X  Y\n",
       "0  3  4\n",
       "1  1  2\n",
       "2  5  6\n",
       "3  2  1\n",
       "4  4  3"
      ]
     },
     "execution_count": 10,
     "metadata": {},
     "output_type": "execute_result"
    }
   ],
   "source": [
    "df = pd.DataFrame({\n",
    "    'X' : [3 , 1 , 5 , 2 , 4],\n",
    "    'Y' : [4 , 2 , 6, 1 , 3]\n",
    "})\n",
    "\n",
    "df"
   ]
  },
  {
   "cell_type": "code",
   "execution_count": 15,
   "id": "858b56d4",
   "metadata": {},
   "outputs": [
    {
     "data": {
      "text/plain": [
       "array([[0.6       , 0.8       ],\n",
       "       [0.4472136 , 0.89442719],\n",
       "       [0.6401844 , 0.76822128],\n",
       "       [0.89442719, 0.4472136 ],\n",
       "       [0.8       , 0.6       ]])"
      ]
     },
     "execution_count": 15,
     "metadata": {},
     "output_type": "execute_result"
    }
   ],
   "source": [
    "normalize(df[['X' , 'Y']])"
   ]
  },
  {
   "cell_type": "code",
   "execution_count": 20,
   "id": "8d78cf25",
   "metadata": {},
   "outputs": [
    {
     "data": {
      "text/html": [
       "<div>\n",
       "<style scoped>\n",
       "    .dataframe tbody tr th:only-of-type {\n",
       "        vertical-align: middle;\n",
       "    }\n",
       "\n",
       "    .dataframe tbody tr th {\n",
       "        vertical-align: top;\n",
       "    }\n",
       "\n",
       "    .dataframe thead th {\n",
       "        text-align: right;\n",
       "    }\n",
       "</style>\n",
       "<table border=\"1\" class=\"dataframe\">\n",
       "  <thead>\n",
       "    <tr style=\"text-align: right;\">\n",
       "      <th></th>\n",
       "      <th>normalized_X</th>\n",
       "      <th>normalized_Y</th>\n",
       "    </tr>\n",
       "  </thead>\n",
       "  <tbody>\n",
       "    <tr>\n",
       "      <th>0</th>\n",
       "      <td>0.600000</td>\n",
       "      <td>0.800000</td>\n",
       "    </tr>\n",
       "    <tr>\n",
       "      <th>1</th>\n",
       "      <td>0.447214</td>\n",
       "      <td>0.894427</td>\n",
       "    </tr>\n",
       "    <tr>\n",
       "      <th>2</th>\n",
       "      <td>0.640184</td>\n",
       "      <td>0.768221</td>\n",
       "    </tr>\n",
       "    <tr>\n",
       "      <th>3</th>\n",
       "      <td>0.894427</td>\n",
       "      <td>0.447214</td>\n",
       "    </tr>\n",
       "    <tr>\n",
       "      <th>4</th>\n",
       "      <td>0.800000</td>\n",
       "      <td>0.600000</td>\n",
       "    </tr>\n",
       "  </tbody>\n",
       "</table>\n",
       "</div>"
      ],
      "text/plain": [
       "   normalized_X  normalized_Y\n",
       "0      0.600000      0.800000\n",
       "1      0.447214      0.894427\n",
       "2      0.640184      0.768221\n",
       "3      0.894427      0.447214\n",
       "4      0.800000      0.600000"
      ]
     },
     "execution_count": 20,
     "metadata": {},
     "output_type": "execute_result"
    }
   ],
   "source": [
    "scaled_df = pd.DataFrame(normalize(df[['X' , 'Y']]) , columns = ['normalized_X' , 'normalized_Y'])\n",
    "scaled_df"
   ]
  },
  {
   "cell_type": "markdown",
   "id": "73513f43",
   "metadata": {},
   "source": [
    "# question 3\n",
    "PCA, short for Principal Component Analysis, is a popular dimensionality reduction technique used to transform a high-dimensional dataset into a lower-dimensional space. It accomplishes this by identifying the principal components, which are new orthogonal axes that capture the maximum amount of variance in the data.PCA, short for Principal Component Analysis, is a popular dimensionality reduction technique used to transform a high-dimensional dataset into a lower-dimensional space. It accomplishes this by identifying the principal components, which are new orthogonal axes that capture the maximum amount of variance in the data.\n",
    "\n",
    "Suppose we have a dataset with four features: age, height, weight, and income. We want to reduce the dimensionality of the dataset while retaining as much information as possible.\n",
    "\n",
    "Standardize the data: We standardize the features to have zero mean and unit variance, ensuring they are on a similar scale.\n",
    "\n",
    "Compute the covariance matrix: Based on the standardized data, we calculate the covariance matrix, which captures the relationships and variances between the features.\n",
    "\n",
    "Compute the eigenvectors and eigenvalues: We calculate the eigenvectors and eigenvalues of the covariance matrix. Let's say the eigenvalues obtained are [2.5, 1.8, 0.9, 0.3], indicating the amount of variance captured by each principal component.\n",
    "\n",
    "Select the principal components: Since the first two eigenvalues are relatively high compared to the others, we choose the corresponding eigenvectors (principal components) associated with the highest eigenvalues. In this case, we select the first two principal components.\n",
    "\n",
    "Transform the data: We project the original data onto the new axes defined by the selected principal components. The transformed data will have a reduced dimensionality with two features (the selected principal components)."
   ]
  },
  {
   "cell_type": "code",
   "execution_count": 21,
   "id": "bd9f091f",
   "metadata": {},
   "outputs": [],
   "source": [
    "from sklearn.decomposition import PCA\n",
    "from sklearn.preprocessing import StandardScaler\n",
    "import numpy as np\n",
    "\n",
    "# Sample data\n",
    "data = np.array([[30, 160, 60, 50000],\n",
    "                 [35, 165, 65, 60000],\n",
    "                 [25, 155, 55, 40000],\n",
    "                 [40, 170, 70, 70000],\n",
    "                 [28, 150, 50, 45000]])\n"
   ]
  },
  {
   "cell_type": "code",
   "execution_count": 22,
   "id": "c2d9245a",
   "metadata": {},
   "outputs": [
    {
     "data": {
      "text/plain": [
       "array([[-0.30108397,  0.        ,  0.        , -0.27854301],\n",
       "       [ 0.63980344,  0.70710678,  0.70710678,  0.64993368],\n",
       "       [-1.24197138, -0.70710678, -0.70710678, -1.2070197 ],\n",
       "       [ 1.58069085,  1.41421356,  1.41421356,  1.57841037],\n",
       "       [-0.67743894, -1.41421356, -1.41421356, -0.74278135]])"
      ]
     },
     "execution_count": 22,
     "metadata": {},
     "output_type": "execute_result"
    }
   ],
   "source": [
    "# Step 1: Standardize the data\n",
    "scaler = StandardScaler()\n",
    "data_scaled = scaler.fit_transform(data)\n",
    "\n",
    "data_scaled"
   ]
  },
  {
   "cell_type": "code",
   "execution_count": 24,
   "id": "a110e26b",
   "metadata": {},
   "outputs": [
    {
     "data": {
      "text/plain": [
       "array([[1.25      , 1.13102338, 1.13102338, 1.2492366 ],\n",
       "       [1.13102338, 1.25      , 1.25      , 1.14893129],\n",
       "       [1.13102338, 1.25      , 1.25      , 1.14893129],\n",
       "       [1.2492366 , 1.14893129, 1.14893129, 1.25      ]])"
      ]
     },
     "execution_count": 24,
     "metadata": {},
     "output_type": "execute_result"
    }
   ],
   "source": [
    "# Step 2: Compute the covariance matrix\n",
    "cov_matrix = np.cov(data_scaled.T)\n",
    "cov_matrix"
   ]
  },
  {
   "cell_type": "code",
   "execution_count": 25,
   "id": "802ef9bb",
   "metadata": {},
   "outputs": [
    {
     "data": {
      "text/plain": [
       "(array([ 4.77960656e+00,  2.20393442e-01,  6.47615052e-17, -3.18415171e-16]),\n",
       " array([[ 0.49807888,  0.539984  , -0.26112759,  0.6160225 ],\n",
       "        [ 0.50004378, -0.49904972, -0.66422044, -0.26901738],\n",
       "        [ 0.50004378, -0.49904972,  0.64105641,  0.32366333],\n",
       "        [ 0.50182654,  0.45860226,  0.28225922, -0.66587384]]))"
      ]
     },
     "execution_count": 25,
     "metadata": {},
     "output_type": "execute_result"
    }
   ],
   "source": [
    "# Step 3: Compute the eigenvectors and eigenvalues\n",
    "eigenvalues, eigenvectors = np.linalg.eig(cov_matrix)\n",
    "eigenvalues, eigenvectors"
   ]
  },
  {
   "cell_type": "code",
   "execution_count": 34,
   "id": "63460e8d",
   "metadata": {},
   "outputs": [
    {
     "data": {
      "text/plain": [
       "(array([0, 1, 2, 3]),\n",
       " array([[ 0.49807888,  0.539984  ],\n",
       "        [ 0.50004378, -0.49904972],\n",
       "        [ 0.50004378, -0.49904972],\n",
       "        [ 0.50182654,  0.45860226]]))"
      ]
     },
     "execution_count": 34,
     "metadata": {},
     "output_type": "execute_result"
    }
   ],
   "source": [
    "# Step 4: Select the principal components\n",
    "n_components = 2\n",
    "sorted_indices = np.argsort(eigenvalues)[::-1]\n",
    "selected_components = eigenvectors[:, sorted_indices[:n_components]]\n",
    "\n",
    "sorted_indices,selected_components"
   ]
  },
  {
   "cell_type": "code",
   "execution_count": 35,
   "id": "6b72c2ae",
   "metadata": {},
   "outputs": [
    {
     "name": "stdout",
     "output_type": "stream",
     "text": [
      "[[-0.28974384 -0.29032098]\n",
      " [ 1.35199524 -0.0622182 ]\n",
      " [-1.93148292 -0.51842376]\n",
      " [ 2.99373432  0.16588457]\n",
      " [-2.1245028   0.70507837]]\n"
     ]
    }
   ],
   "source": [
    "# Step 5: Transform the data\n",
    "transformed_data = np.dot(data_scaled, selected_components)\n",
    "\n",
    "# Print the transformed data\n",
    "print(transformed_data)"
   ]
  },
  {
   "cell_type": "markdown",
   "id": "dde87160",
   "metadata": {},
   "source": [
    "# question 4\n",
    "\n",
    "PCA and feature extraction are closely related concepts. In fact, PCA can be used as a feature extraction technique to derive a set of new features that capture the most important information from the original feature set.\n",
    "\n",
    "Feature extraction refers to the process of transforming the original set of features into a new set of features that represent the data in a more concise and meaningful way. The goal is to reduce the dimensionality of the data while retaining as much relevant information as possible.\n",
    "\n",
    "PCA can be used for feature extraction by identifying the principal components, which are linear combinations of the original features. These principal components are derived in such a way that they capture the maximum variance present in the data. By selecting a subset of the principal components, we effectively extract new features that represent the most important information in the original feature set.\n",
    "\n",
    "Here's an example to illustrate how PCA can be used for feature extraction:\n",
    "\n",
    "Suppose we have a dataset of images represented by pixel values. Each image is a high-dimensional feature vector, where each pixel corresponds to a feature. However, the high dimensionality makes it difficult to analyze and work with the images directly.\n",
    "\n",
    "To extract meaningful features from the images using PCA, we can follow these steps:\n",
    "\n",
    "Preprocess the images: Convert the images to grayscale and flatten them into 1-dimensional vectors to create a dataset where each sample is represented by a feature vector.\n",
    "Standardize the data: Apply feature-wise standardization to ensure that each feature has zero mean and unit variance.\n",
    "\n",
    "Apply PCA: Compute the covariance matrix of the standardized data and calculate the eigenvectors and eigenvalues. Sort the eigenvectors based on their corresponding eigenvalues in descending order.\n",
    "\n",
    "Select the desired number of principal components: Choose the top k eigenvectors (principal components) that capture the most variance in the data. These components represent the new set of features.\n",
    "\n",
    "Transform the data: Project the standardized data onto the selected principal components to obtain the reduced-dimensional feature vectors.\n",
    "\n",
    "The resulting feature vectors represent the extracted features from the original images. These features are typically lower-dimensional and capture the most important patterns or variations in the images."
   ]
  },
  {
   "cell_type": "code",
   "execution_count": 40,
   "id": "ecfe795d",
   "metadata": {},
   "outputs": [
    {
     "name": "stderr",
     "output_type": "stream",
     "text": [
      "/Users/damodargupta/anaconda3/lib/python3.10/site-packages/sklearn/datasets/_openml.py:932: FutureWarning: The default value of `parser` will change from `'liac-arff'` to `'auto'` in 1.4. You can set `parser='auto'` to silence this warning. Therefore, an `ImportError` will be raised from 1.4 if the dataset is dense and pandas is not installed. Note that the pandas parser may return different data types. See the Notes Section in fetch_openml's API doc for details.\n",
      "  warn(\n",
      "/var/folders/pb/3pqt97t1701c0435w57nfgrh0000gn/T/ipykernel_23688/2957224003.py:22: UserWarning: No data for colormapping provided via 'c'. Parameters 'cmap' will be ignored\n",
      "  plt.scatter(X_transformed[:, 0], X_transformed[:, 1], c='yellow', cmap='rainbow')\n"
     ]
    },
    {
     "data": {
      "image/png": "[encoded data removed]",
      "text/plain": [
       "<Figure size 640x480 with 1 Axes>"
      ]
     },
     "metadata": {},
     "output_type": "display_data"
    }
   ],
   "source": [
    "from sklearn.decomposition import PCA\n",
    "from sklearn.preprocessing import StandardScaler\n",
    "from sklearn.datasets import fetch_openml\n",
    "import matplotlib.pyplot as plt\n",
    "\n",
    "# Load the MNIST dataset (or any other image dataset)\n",
    "mnist = fetch_openml('mnist_784')\n",
    "\n",
    "# Preprocess the data\n",
    "X = mnist.data\n",
    "y = mnist.target\n",
    "\n",
    "# Standardize the data\n",
    "scaler = StandardScaler()\n",
    "X_scaled = scaler.fit_transform(X)\n",
    "\n",
    "# Apply PCA\n",
    "pca = PCA(n_components=2)  # Set the desired number of components\n",
    "X_transformed = pca.fit_transform(X_scaled)\n",
    "\n",
    "# Plot the transformed data\n",
    "plt.scatter(X_transformed[:, 0], X_transformed[:, 1], c='yellow', cmap='rainbow')\n",
    "plt.xlabel('Principal Component 1')\n",
    "plt.ylabel('Principal Component 2')\n",
    "plt.title('PCA: Feature Extraction')\n",
    "plt.show()"
   ]
  },
  {
   "cell_type": "markdown",
   "id": "4910bbdb",
   "metadata": {},
   "source": [
    "# question 5\n",
    "\n",
    "Min-Max scaling allows you to normalize the features in a way that preserves the relative differences between them. This is important for recommendation systems, as it ensures that features with larger scales (e.g., price) do not dominate the recommendation process compared to features with smaller scales (e.g., rating or delivery time).\n",
    "\n",
    "After applying Min-Max scaling, the preprocessed data can be used as input for building the recommendation system, where the scaled features will contribute equally in determining the recommendations based on their relative importance."
   ]
  },
  {
   "cell_type": "code",
   "execution_count": 42,
   "id": "411bbb86",
   "metadata": {},
   "outputs": [
    {
     "data": {
      "text/html": [
       "<div>\n",
       "<style scoped>\n",
       "    .dataframe tbody tr th:only-of-type {\n",
       "        vertical-align: middle;\n",
       "    }\n",
       "\n",
       "    .dataframe tbody tr th {\n",
       "        vertical-align: top;\n",
       "    }\n",
       "\n",
       "    .dataframe thead th {\n",
       "        text-align: right;\n",
       "    }\n",
       "</style>\n",
       "<table border=\"1\" class=\"dataframe\">\n",
       "  <thead>\n",
       "    <tr style=\"text-align: right;\">\n",
       "      <th></th>\n",
       "      <th>rating</th>\n",
       "      <th>delivery_time</th>\n",
       "      <th>price</th>\n",
       "    </tr>\n",
       "  </thead>\n",
       "  <tbody>\n",
       "    <tr>\n",
       "      <th>0</th>\n",
       "      <td>4</td>\n",
       "      <td>3</td>\n",
       "      <td>350</td>\n",
       "    </tr>\n",
       "    <tr>\n",
       "      <th>1</th>\n",
       "      <td>3</td>\n",
       "      <td>18</td>\n",
       "      <td>400</td>\n",
       "    </tr>\n",
       "    <tr>\n",
       "      <th>2</th>\n",
       "      <td>5</td>\n",
       "      <td>17</td>\n",
       "      <td>280</td>\n",
       "    </tr>\n",
       "    <tr>\n",
       "      <th>3</th>\n",
       "      <td>2</td>\n",
       "      <td>12</td>\n",
       "      <td>640</td>\n",
       "    </tr>\n",
       "    <tr>\n",
       "      <th>4</th>\n",
       "      <td>5</td>\n",
       "      <td>11</td>\n",
       "      <td>700</td>\n",
       "    </tr>\n",
       "  </tbody>\n",
       "</table>\n",
       "</div>"
      ],
      "text/plain": [
       "   rating  delivery_time  price\n",
       "0       4              3    350\n",
       "1       3             18    400\n",
       "2       5             17    280\n",
       "3       2             12    640\n",
       "4       5             11    700"
      ]
     },
     "execution_count": 42,
     "metadata": {},
     "output_type": "execute_result"
    }
   ],
   "source": [
    "# scaling the proposed features for a recommendation engine using minmaxscalar\n",
    "\n",
    "from sklearn.preprocessing import MinMaxScaler\n",
    "import pandas as pd\n",
    "\n",
    "df = pd.DataFrame({\n",
    "    'rating' : [4,3,5,2,5],\n",
    "    'delivery_time' : [3 , 18 , 17 , 12 , 11 ],\n",
    "    'price' : [350 ,400 ,280 , 640 , 700]\n",
    "})\n",
    "\n",
    "df"
   ]
  },
  {
   "cell_type": "code",
   "execution_count": 44,
   "id": "b75a57f8",
   "metadata": {},
   "outputs": [
    {
     "data": {
      "text/html": [
       "<div>\n",
       "<style scoped>\n",
       "    .dataframe tbody tr th:only-of-type {\n",
       "        vertical-align: middle;\n",
       "    }\n",
       "\n",
       "    .dataframe tbody tr th {\n",
       "        vertical-align: top;\n",
       "    }\n",
       "\n",
       "    .dataframe thead th {\n",
       "        text-align: right;\n",
       "    }\n",
       "</style>\n",
       "<table border=\"1\" class=\"dataframe\">\n",
       "  <thead>\n",
       "    <tr style=\"text-align: right;\">\n",
       "      <th></th>\n",
       "      <th>scaled_rating</th>\n",
       "      <th>scaled_delivery_time</th>\n",
       "      <th>scaled_price</th>\n",
       "    </tr>\n",
       "  </thead>\n",
       "  <tbody>\n",
       "    <tr>\n",
       "      <th>0</th>\n",
       "      <td>0.666667</td>\n",
       "      <td>0.000000</td>\n",
       "      <td>0.166667</td>\n",
       "    </tr>\n",
       "    <tr>\n",
       "      <th>1</th>\n",
       "      <td>0.333333</td>\n",
       "      <td>1.000000</td>\n",
       "      <td>0.285714</td>\n",
       "    </tr>\n",
       "    <tr>\n",
       "      <th>2</th>\n",
       "      <td>1.000000</td>\n",
       "      <td>0.933333</td>\n",
       "      <td>0.000000</td>\n",
       "    </tr>\n",
       "    <tr>\n",
       "      <th>3</th>\n",
       "      <td>0.000000</td>\n",
       "      <td>0.600000</td>\n",
       "      <td>0.857143</td>\n",
       "    </tr>\n",
       "    <tr>\n",
       "      <th>4</th>\n",
       "      <td>1.000000</td>\n",
       "      <td>0.533333</td>\n",
       "      <td>1.000000</td>\n",
       "    </tr>\n",
       "  </tbody>\n",
       "</table>\n",
       "</div>"
      ],
      "text/plain": [
       "   scaled_rating  scaled_delivery_time  scaled_price\n",
       "0       0.666667              0.000000      0.166667\n",
       "1       0.333333              1.000000      0.285714\n",
       "2       1.000000              0.933333      0.000000\n",
       "3       0.000000              0.600000      0.857143\n",
       "4       1.000000              0.533333      1.000000"
      ]
     },
     "execution_count": 44,
     "metadata": {},
     "output_type": "execute_result"
    }
   ],
   "source": [
    "scalar = MinMaxScaler()\n",
    "scalar.fit_transform(df)\n",
    "pd.DataFrame(scalar.fit_transform(df) , columns = ['scaled_rating' , 'scaled_delivery_time' , 'scaled_price'])"
   ]
  },
  {
   "cell_type": "markdown",
   "id": "da4f9a7b",
   "metadata": {},
   "source": [
    "# question 6\n"
   ]
  },
  {
   "cell_type": "markdown",
   "id": "6dca93ac",
   "metadata": {},
   "source": [
    "When building a model to predict stock prices, dealing with a large number of features can pose challenges such as increased computational complexity, potential overfitting, and difficulty in interpreting the model. Principal Component Analysis (PCA) can be employed to address these issues by reducing the dimensionality of the dataset while retaining most of the relevant information.\n",
    "\n",
    "Here's an overview of how PCA can be used to reduce the dimensionality of the stock price dataset:\n",
    "\n",
    "1. Identify the features: Determine the features from the dataset that you want to include in the stock price prediction model. These features can include company financial data (e.g., revenue, earnings, debt) and market trends (e.g., stock indices, interest rates).\n",
    "\n",
    "2. Standardize the data: To ensure that all the features are on a similar scale, it is advisable to standardize the dataset by subtracting the mean and dividing by the standard deviation of each feature. This step is important because PCA is sensitive to the scale of the features.\n",
    "\n",
    "3. Apply PCA: Once the data is standardized, apply PCA to the dataset. PCA will identify the principal components, which are linear combinations of the original features. These components capture the maximum variance present in the data.\n",
    "\n",
    "4. Determine the number of components: Decide on the number of principal components to retain. This can be based on the desired level of dimensionality reduction or by considering the cumulative explained variance ratio. The explained variance ratio indicates the amount of variance in the original dataset that is retained by each principal component. Choosing a higher number of components will retain more variance but may result in a higher-dimensional transformed dataset.\n",
    "\n",
    "5. Transform the data: Transform the standardized dataset by projecting it onto the selected principal components. This results in a reduced-dimensional representation of the data, where each sample is represented by a reduced set of features.\n",
    "\n",
    "6. Model training: Use the transformed dataset as input for training your stock price prediction model. The reduced-dimensional representation can help mitigate overfitting and improve model performance by focusing on the most important information captured by the principal components.\n",
    "\n",
    "By using PCA to reduce the dimensionality of the dataset, you can simplify the input space for your stock price prediction model, remove any redundant or less informative features, and focus on the most significant information captured by the principal components. This can lead to improved model performance, better interpretability, and reduced computational complexity."
   ]
  },
  {
   "cell_type": "markdown",
   "id": "debee28f",
   "metadata": {},
   "source": [
    "# question 7"
   ]
  },
  {
   "cell_type": "code",
   "execution_count": 49,
   "id": "d26e5dce",
   "metadata": {},
   "outputs": [],
   "source": [
    "from sklearn.preprocessing import MinMaxScaler\n",
    "import pandas as pd\n",
    "\n",
    "df = pd.DataFrame({\n",
    "    'values' : [1, 5, 10, 15, 20]\n",
    "    })"
   ]
  },
  {
   "cell_type": "code",
   "execution_count": 51,
   "id": "60c08c37",
   "metadata": {},
   "outputs": [
    {
     "data": {
      "text/plain": [
       "array([[-1.        ],\n",
       "       [-0.57894737],\n",
       "       [-0.05263158],\n",
       "       [ 0.47368421],\n",
       "       [ 1.        ]])"
      ]
     },
     "execution_count": 51,
     "metadata": {},
     "output_type": "execute_result"
    }
   ],
   "source": [
    "scalar = MinMaxScaler(feature_range=(-1,1))\n",
    "scalar.fit_transform(df)"
   ]
  },
  {
   "cell_type": "code",
   "execution_count": 53,
   "id": "85b22b66",
   "metadata": {},
   "outputs": [
    {
     "data": {
      "text/html": [
       "<div>\n",
       "<style scoped>\n",
       "    .dataframe tbody tr th:only-of-type {\n",
       "        vertical-align: middle;\n",
       "    }\n",
       "\n",
       "    .dataframe tbody tr th {\n",
       "        vertical-align: top;\n",
       "    }\n",
       "\n",
       "    .dataframe thead th {\n",
       "        text-align: right;\n",
       "    }\n",
       "</style>\n",
       "<table border=\"1\" class=\"dataframe\">\n",
       "  <thead>\n",
       "    <tr style=\"text-align: right;\">\n",
       "      <th></th>\n",
       "      <th>scaled_values</th>\n",
       "    </tr>\n",
       "  </thead>\n",
       "  <tbody>\n",
       "    <tr>\n",
       "      <th>0</th>\n",
       "      <td>-1.000000</td>\n",
       "    </tr>\n",
       "    <tr>\n",
       "      <th>1</th>\n",
       "      <td>-0.578947</td>\n",
       "    </tr>\n",
       "    <tr>\n",
       "      <th>2</th>\n",
       "      <td>-0.052632</td>\n",
       "    </tr>\n",
       "    <tr>\n",
       "      <th>3</th>\n",
       "      <td>0.473684</td>\n",
       "    </tr>\n",
       "    <tr>\n",
       "      <th>4</th>\n",
       "      <td>1.000000</td>\n",
       "    </tr>\n",
       "  </tbody>\n",
       "</table>\n",
       "</div>"
      ],
      "text/plain": [
       "   scaled_values\n",
       "0      -1.000000\n",
       "1      -0.578947\n",
       "2      -0.052632\n",
       "3       0.473684\n",
       "4       1.000000"
      ]
     },
     "execution_count": 53,
     "metadata": {},
     "output_type": "execute_result"
    }
   ],
   "source": [
    "pd.DataFrame(scalar.fit_transform(df) , columns = ['scaled_values'])"
   ]
  },
  {
   "cell_type": "markdown",
   "id": "5dd5ecae",
   "metadata": {},
   "source": [
    "# question 8 "
   ]
  },
  {
   "cell_type": "code",
   "execution_count": 106,
   "id": "377b713a",
   "metadata": {},
   "outputs": [],
   "source": [
    "from sklearn.decomposition import PCA\n",
    "from sklearn.preprocessing import StandardScaler\n",
    "from sklearn.preprocessing import OneHotEncoder\n",
    "import numpy as np\n",
    "import pandas as pd\n",
    "import seaborn as sns\n",
    "import matplotlib as plt"
   ]
  },
  {
   "cell_type": "code",
   "execution_count": 55,
   "id": "0faa74c5",
   "metadata": {},
   "outputs": [
    {
     "data": {
      "text/html": [
       "<div>\n",
       "<style scoped>\n",
       "    .dataframe tbody tr th:only-of-type {\n",
       "        vertical-align: middle;\n",
       "    }\n",
       "\n",
       "    .dataframe tbody tr th {\n",
       "        vertical-align: top;\n",
       "    }\n",
       "\n",
       "    .dataframe thead th {\n",
       "        text-align: right;\n",
       "    }\n",
       "</style>\n",
       "<table border=\"1\" class=\"dataframe\">\n",
       "  <thead>\n",
       "    <tr style=\"text-align: right;\">\n",
       "      <th></th>\n",
       "      <th>height</th>\n",
       "      <th>weight</th>\n",
       "      <th>age</th>\n",
       "      <th>gender</th>\n",
       "      <th>blood_pressure</th>\n",
       "    </tr>\n",
       "  </thead>\n",
       "  <tbody>\n",
       "    <tr>\n",
       "      <th>0</th>\n",
       "      <td>130</td>\n",
       "      <td>34</td>\n",
       "      <td>10</td>\n",
       "      <td>male</td>\n",
       "      <td>100</td>\n",
       "    </tr>\n",
       "    <tr>\n",
       "      <th>1</th>\n",
       "      <td>120</td>\n",
       "      <td>54</td>\n",
       "      <td>14</td>\n",
       "      <td>male</td>\n",
       "      <td>120</td>\n",
       "    </tr>\n",
       "    <tr>\n",
       "      <th>2</th>\n",
       "      <td>144</td>\n",
       "      <td>75</td>\n",
       "      <td>19</td>\n",
       "      <td>female</td>\n",
       "      <td>110</td>\n",
       "    </tr>\n",
       "    <tr>\n",
       "      <th>3</th>\n",
       "      <td>122</td>\n",
       "      <td>80</td>\n",
       "      <td>33</td>\n",
       "      <td>male</td>\n",
       "      <td>105</td>\n",
       "    </tr>\n",
       "    <tr>\n",
       "      <th>4</th>\n",
       "      <td>110</td>\n",
       "      <td>66</td>\n",
       "      <td>21</td>\n",
       "      <td>female</td>\n",
       "      <td>114</td>\n",
       "    </tr>\n",
       "  </tbody>\n",
       "</table>\n",
       "</div>"
      ],
      "text/plain": [
       "   height  weight  age  gender blood_pressure\n",
       "0     130      34   10    male            100\n",
       "1     120      54   14    male            120\n",
       "2     144      75   19  female            110\n",
       "3     122      80   33    male            105\n",
       "4     110      66   21  female            114"
      ]
     },
     "execution_count": 55,
     "metadata": {},
     "output_type": "execute_result"
    }
   ],
   "source": [
    "df = pd.DataFrame({\n",
    "    'height' : [130 , 120 , 144 , 122 ,110],\n",
    "    'weight' : [34 , 54 , 75, 80 , 66],\n",
    "    'age' : [10 , 14, 19, 33, 21],\n",
    "    'gender' : ['male' , 'male' , 'female' , 'male' , 'female'],\n",
    "    'blood_pressure' : ['100' , '120' , '110' , '105' , '114']\n",
    "})\n",
    "\n",
    "df"
   ]
  },
  {
   "cell_type": "code",
   "execution_count": 65,
   "id": "682e58e5",
   "metadata": {},
   "outputs": [],
   "source": [
    "encoder = OneHotEncoder()\n",
    "encoding = encoder.fit_transform(df[['gender']])"
   ]
  },
  {
   "cell_type": "code",
   "execution_count": 67,
   "id": "e232de6c",
   "metadata": {},
   "outputs": [
    {
     "data": {
      "text/plain": [
       "array([[0., 1.],\n",
       "       [0., 1.],\n",
       "       [1., 0.],\n",
       "       [0., 1.],\n",
       "       [1., 0.]])"
      ]
     },
     "execution_count": 67,
     "metadata": {},
     "output_type": "execute_result"
    }
   ],
   "source": [
    "encoding.toarray()"
   ]
  },
  {
   "cell_type": "code",
   "execution_count": 74,
   "id": "d4096427",
   "metadata": {},
   "outputs": [],
   "source": [
    "final_df = df.drop('gender' , axis=1)"
   ]
  },
  {
   "cell_type": "code",
   "execution_count": 118,
   "id": "ffd9bb8e",
   "metadata": {},
   "outputs": [],
   "source": [
    "encoded_df = pd.DataFrame(encoding.toarray() , columns = ['female' , 'male'])"
   ]
  },
  {
   "cell_type": "code",
   "execution_count": 119,
   "id": "327bafb8",
   "metadata": {},
   "outputs": [
    {
     "data": {
      "text/html": [
       "<div>\n",
       "<style scoped>\n",
       "    .dataframe tbody tr th:only-of-type {\n",
       "        vertical-align: middle;\n",
       "    }\n",
       "\n",
       "    .dataframe tbody tr th {\n",
       "        vertical-align: top;\n",
       "    }\n",
       "\n",
       "    .dataframe thead th {\n",
       "        text-align: right;\n",
       "    }\n",
       "</style>\n",
       "<table border=\"1\" class=\"dataframe\">\n",
       "  <thead>\n",
       "    <tr style=\"text-align: right;\">\n",
       "      <th></th>\n",
       "      <th>height</th>\n",
       "      <th>weight</th>\n",
       "      <th>age</th>\n",
       "      <th>blood_pressure</th>\n",
       "      <th>female</th>\n",
       "      <th>male</th>\n",
       "    </tr>\n",
       "  </thead>\n",
       "  <tbody>\n",
       "    <tr>\n",
       "      <th>0</th>\n",
       "      <td>130</td>\n",
       "      <td>34</td>\n",
       "      <td>10</td>\n",
       "      <td>100</td>\n",
       "      <td>0.0</td>\n",
       "      <td>1.0</td>\n",
       "    </tr>\n",
       "    <tr>\n",
       "      <th>1</th>\n",
       "      <td>120</td>\n",
       "      <td>54</td>\n",
       "      <td>14</td>\n",
       "      <td>120</td>\n",
       "      <td>0.0</td>\n",
       "      <td>1.0</td>\n",
       "    </tr>\n",
       "    <tr>\n",
       "      <th>2</th>\n",
       "      <td>144</td>\n",
       "      <td>75</td>\n",
       "      <td>19</td>\n",
       "      <td>110</td>\n",
       "      <td>1.0</td>\n",
       "      <td>0.0</td>\n",
       "    </tr>\n",
       "    <tr>\n",
       "      <th>3</th>\n",
       "      <td>122</td>\n",
       "      <td>80</td>\n",
       "      <td>33</td>\n",
       "      <td>105</td>\n",
       "      <td>0.0</td>\n",
       "      <td>1.0</td>\n",
       "    </tr>\n",
       "    <tr>\n",
       "      <th>4</th>\n",
       "      <td>110</td>\n",
       "      <td>66</td>\n",
       "      <td>21</td>\n",
       "      <td>114</td>\n",
       "      <td>1.0</td>\n",
       "      <td>0.0</td>\n",
       "    </tr>\n",
       "  </tbody>\n",
       "</table>\n",
       "</div>"
      ],
      "text/plain": [
       "   height  weight  age blood_pressure  female  male\n",
       "0     130      34   10            100     0.0   1.0\n",
       "1     120      54   14            120     0.0   1.0\n",
       "2     144      75   19            110     1.0   0.0\n",
       "3     122      80   33            105     0.0   1.0\n",
       "4     110      66   21            114     1.0   0.0"
      ]
     },
     "execution_count": 119,
     "metadata": {},
     "output_type": "execute_result"
    }
   ],
   "source": [
    "encoded_final_df = pd.concat([final_df , encoded_df] , axis=1)\n",
    "encoded_final_df"
   ]
  },
  {
   "cell_type": "code",
   "execution_count": 120,
   "id": "c8bc5b4a",
   "metadata": {},
   "outputs": [
    {
     "data": {
      "text/html": [
       "<div>\n",
       "<style scoped>\n",
       "    .dataframe tbody tr th:only-of-type {\n",
       "        vertical-align: middle;\n",
       "    }\n",
       "\n",
       "    .dataframe tbody tr th {\n",
       "        vertical-align: top;\n",
       "    }\n",
       "\n",
       "    .dataframe thead th {\n",
       "        text-align: right;\n",
       "    }\n",
       "</style>\n",
       "<table border=\"1\" class=\"dataframe\">\n",
       "  <thead>\n",
       "    <tr style=\"text-align: right;\">\n",
       "      <th></th>\n",
       "      <th>height</th>\n",
       "      <th>weight</th>\n",
       "      <th>age</th>\n",
       "      <th>blood_pressure</th>\n",
       "      <th>female</th>\n",
       "      <th>male</th>\n",
       "    </tr>\n",
       "  </thead>\n",
       "  <tbody>\n",
       "    <tr>\n",
       "      <th>height</th>\n",
       "      <td>1.000000</td>\n",
       "      <td>0.035495</td>\n",
       "      <td>-0.208289</td>\n",
       "      <td>-0.367475</td>\n",
       "      <td>0.129419</td>\n",
       "      <td>-0.129419</td>\n",
       "    </tr>\n",
       "    <tr>\n",
       "      <th>weight</th>\n",
       "      <td>0.035495</td>\n",
       "      <td>1.000000</td>\n",
       "      <td>0.858427</td>\n",
       "      <td>0.220087</td>\n",
       "      <td>0.431222</td>\n",
       "      <td>-0.431222</td>\n",
       "    </tr>\n",
       "    <tr>\n",
       "      <th>age</th>\n",
       "      <td>-0.208289</td>\n",
       "      <td>0.858427</td>\n",
       "      <td>1.000000</td>\n",
       "      <td>-0.079677</td>\n",
       "      <td>0.062704</td>\n",
       "      <td>-0.062704</td>\n",
       "    </tr>\n",
       "    <tr>\n",
       "      <th>blood_pressure</th>\n",
       "      <td>-0.367475</td>\n",
       "      <td>0.220087</td>\n",
       "      <td>-0.079677</td>\n",
       "      <td>1.000000</td>\n",
       "      <td>0.258841</td>\n",
       "      <td>-0.258841</td>\n",
       "    </tr>\n",
       "    <tr>\n",
       "      <th>female</th>\n",
       "      <td>0.129419</td>\n",
       "      <td>0.431222</td>\n",
       "      <td>0.062704</td>\n",
       "      <td>0.258841</td>\n",
       "      <td>1.000000</td>\n",
       "      <td>-1.000000</td>\n",
       "    </tr>\n",
       "    <tr>\n",
       "      <th>male</th>\n",
       "      <td>-0.129419</td>\n",
       "      <td>-0.431222</td>\n",
       "      <td>-0.062704</td>\n",
       "      <td>-0.258841</td>\n",
       "      <td>-1.000000</td>\n",
       "      <td>1.000000</td>\n",
       "    </tr>\n",
       "  </tbody>\n",
       "</table>\n",
       "</div>"
      ],
      "text/plain": [
       "                  height    weight       age  blood_pressure    female   \n",
       "height          1.000000  0.035495 -0.208289       -0.367475  0.129419  \\\n",
       "weight          0.035495  1.000000  0.858427        0.220087  0.431222   \n",
       "age            -0.208289  0.858427  1.000000       -0.079677  0.062704   \n",
       "blood_pressure -0.367475  0.220087 -0.079677        1.000000  0.258841   \n",
       "female          0.129419  0.431222  0.062704        0.258841  1.000000   \n",
       "male           -0.129419 -0.431222 -0.062704       -0.258841 -1.000000   \n",
       "\n",
       "                    male  \n",
       "height         -0.129419  \n",
       "weight         -0.431222  \n",
       "age            -0.062704  \n",
       "blood_pressure -0.258841  \n",
       "female         -1.000000  \n",
       "male            1.000000  "
      ]
     },
     "execution_count": 120,
     "metadata": {},
     "output_type": "execute_result"
    }
   ],
   "source": [
    "correlation_matrix = encoded_final_df.corr()\n",
    "correlation_matrix"
   ]
  },
  {
   "cell_type": "code",
   "execution_count": 121,
   "id": "48476662",
   "metadata": {},
   "outputs": [
    {
     "data": {
      "text/plain": [
       "<Axes: >"
      ]
     },
     "execution_count": 121,
     "metadata": {},
     "output_type": "execute_result"
    },
    {
     "data": {
      "image/png": "[encoded data removed]",
      "text/plain": [
       "<Figure size 640x480 with 2 Axes>"
      ]
     },
     "metadata": {},
     "output_type": "display_data"
    }
   ],
   "source": [
    "sns.heatmap(correlation_matrix)"
   ]
  },
  {
   "cell_type": "code",
   "execution_count": 122,
   "id": "6a49de73",
   "metadata": {},
   "outputs": [
    {
     "data": {
      "text/plain": [
       "array([[ 0.42268197, -1.68760919, -1.20315226, -1.41215652, -0.81649658,\n",
       "         0.81649658],\n",
       "       [-0.45790547, -0.47350186, -0.69117257,  1.46979557, -0.81649658,\n",
       "         0.81649658],\n",
       "       [ 1.65550439,  0.80131084, -0.05119797,  0.02881952,  1.22474487,\n",
       "        -1.22474487],\n",
       "       [-0.28178798,  1.10483767,  1.74073093, -0.6916685 , -0.81649658,\n",
       "         0.81649658],\n",
       "       [-1.33849291,  0.25496254,  0.20479187,  0.60520994,  1.22474487,\n",
       "        -1.22474487]])"
      ]
     },
     "execution_count": 122,
     "metadata": {},
     "output_type": "execute_result"
    }
   ],
   "source": [
    "scalar = StandardScaler()\n",
    "data_scaled = scalar.fit_transform(encoded_final_df)\n",
    "data_scaled"
   ]
  },
  {
   "cell_type": "code",
   "execution_count": 123,
   "id": "1f0c6465",
   "metadata": {},
   "outputs": [
    {
     "data": {
      "text/html": [
       "<div>\n",
       "<style scoped>\n",
       "    .dataframe tbody tr th:only-of-type {\n",
       "        vertical-align: middle;\n",
       "    }\n",
       "\n",
       "    .dataframe tbody tr th {\n",
       "        vertical-align: top;\n",
       "    }\n",
       "\n",
       "    .dataframe thead th {\n",
       "        text-align: right;\n",
       "    }\n",
       "</style>\n",
       "<table border=\"1\" class=\"dataframe\">\n",
       "  <thead>\n",
       "    <tr style=\"text-align: right;\">\n",
       "      <th></th>\n",
       "      <th>scaled_height</th>\n",
       "      <th>scaled_weight</th>\n",
       "      <th>scaled_age</th>\n",
       "      <th>scaled_blood_pressure</th>\n",
       "      <th>scaled_male</th>\n",
       "      <th>scaled_female</th>\n",
       "    </tr>\n",
       "  </thead>\n",
       "  <tbody>\n",
       "    <tr>\n",
       "      <th>0</th>\n",
       "      <td>0.422682</td>\n",
       "      <td>-1.687609</td>\n",
       "      <td>-1.203152</td>\n",
       "      <td>-1.412157</td>\n",
       "      <td>-0.816497</td>\n",
       "      <td>0.816497</td>\n",
       "    </tr>\n",
       "    <tr>\n",
       "      <th>1</th>\n",
       "      <td>-0.457905</td>\n",
       "      <td>-0.473502</td>\n",
       "      <td>-0.691173</td>\n",
       "      <td>1.469796</td>\n",
       "      <td>-0.816497</td>\n",
       "      <td>0.816497</td>\n",
       "    </tr>\n",
       "    <tr>\n",
       "      <th>2</th>\n",
       "      <td>1.655504</td>\n",
       "      <td>0.801311</td>\n",
       "      <td>-0.051198</td>\n",
       "      <td>0.028820</td>\n",
       "      <td>1.224745</td>\n",
       "      <td>-1.224745</td>\n",
       "    </tr>\n",
       "    <tr>\n",
       "      <th>3</th>\n",
       "      <td>-0.281788</td>\n",
       "      <td>1.104838</td>\n",
       "      <td>1.740731</td>\n",
       "      <td>-0.691669</td>\n",
       "      <td>-0.816497</td>\n",
       "      <td>0.816497</td>\n",
       "    </tr>\n",
       "    <tr>\n",
       "      <th>4</th>\n",
       "      <td>-1.338493</td>\n",
       "      <td>0.254963</td>\n",
       "      <td>0.204792</td>\n",
       "      <td>0.605210</td>\n",
       "      <td>1.224745</td>\n",
       "      <td>-1.224745</td>\n",
       "    </tr>\n",
       "  </tbody>\n",
       "</table>\n",
       "</div>"
      ],
      "text/plain": [
       "   scaled_height  scaled_weight  scaled_age  scaled_blood_pressure   \n",
       "0       0.422682      -1.687609   -1.203152              -1.412157  \\\n",
       "1      -0.457905      -0.473502   -0.691173               1.469796   \n",
       "2       1.655504       0.801311   -0.051198               0.028820   \n",
       "3      -0.281788       1.104838    1.740731              -0.691669   \n",
       "4      -1.338493       0.254963    0.204792               0.605210   \n",
       "\n",
       "   scaled_male  scaled_female  \n",
       "0    -0.816497       0.816497  \n",
       "1    -0.816497       0.816497  \n",
       "2     1.224745      -1.224745  \n",
       "3    -0.816497       0.816497  \n",
       "4     1.224745      -1.224745  "
      ]
     },
     "execution_count": 123,
     "metadata": {},
     "output_type": "execute_result"
    }
   ],
   "source": [
    "pd.DataFrame(scalar.fit_transform(encoded_final_df) , columns = ['scaled_height' , 'scaled_weight' , 'scaled_age' , 'scaled_blood_pressure' , 'scaled_male', 'scaled_female']) "
   ]
  },
  {
   "cell_type": "code",
   "execution_count": 124,
   "id": "57e69450",
   "metadata": {},
   "outputs": [
    {
     "data": {
      "text/plain": [
       "array([[ 1.25      ,  0.0443688 , -0.26036176, -0.45934376,  0.16177424,\n",
       "        -0.16177424],\n",
       "       [ 0.0443688 ,  1.25      ,  1.07303404,  0.27510881,  0.53902725,\n",
       "        -0.53902725],\n",
       "       [-0.26036176,  1.07303404,  1.25      , -0.09959631,  0.07838056,\n",
       "        -0.07838056],\n",
       "       [-0.45934376,  0.27510881, -0.09959631,  1.25      ,  0.3235518 ,\n",
       "        -0.3235518 ],\n",
       "       [ 0.16177424,  0.53902725,  0.07838056,  0.3235518 ,  1.25      ,\n",
       "        -1.25      ],\n",
       "       [-0.16177424, -0.53902725, -0.07838056, -0.3235518 , -1.25      ,\n",
       "         1.25      ]])"
      ]
     },
     "execution_count": 124,
     "metadata": {},
     "output_type": "execute_result"
    }
   ],
   "source": [
    "cov_matrix = np.cov(data_scaled.T)\n",
    "cov_matrix"
   ]
  },
  {
   "cell_type": "code",
   "execution_count": 125,
   "id": "9e2fac82",
   "metadata": {},
   "outputs": [
    {
     "data": {
      "text/plain": [
       "(array([3.19076051e+00, 1.96221990e+00, 1.65320342e+00, 6.93816166e-01,\n",
       "        1.07075345e-19, 5.51726269e-17]),\n",
       " array([[ 0.00445792,  0.35779945,  0.6688486 , -0.61116706, -0.00720092,\n",
       "         -0.22558248],\n",
       "        [ 0.50750146, -0.40238574,  0.17825735, -0.28900905,  0.02173259,\n",
       "          0.68081436],\n",
       "        [ 0.31174464, -0.66175035,  0.21368833,  0.08602522, -0.02044763,\n",
       "         -0.64056068],\n",
       "        [ 0.23591976,  0.0404951 , -0.68934172, -0.63934018, -0.00772322,\n",
       "         -0.2419446 ],\n",
       "        [ 0.54294546,  0.3677716 ,  0.00236267,  0.251786  ,  0.70416857,\n",
       "         -0.03782974],\n",
       "        [-0.54294546, -0.3677716 , -0.00236267, -0.251786  ,  0.70932695,\n",
       "          0.12376621]]))"
      ]
     },
     "execution_count": 125,
     "metadata": {},
     "output_type": "execute_result"
    }
   ],
   "source": [
    "eigen_values , eigen_vectors = np.linalg.eig(cov_matrix)\n",
    "eigen_values, eigen_vectors"
   ]
  },
  {
   "cell_type": "code",
   "execution_count": 126,
   "id": "42f44986",
   "metadata": {},
   "outputs": [
    {
     "data": {
      "text/plain": [
       "(array([0, 1, 2, 3, 5, 4]),\n",
       " array([[ 0.00445792,  0.35779945,  0.6688486 , -0.61116706],\n",
       "        [ 0.50750146, -0.40238574,  0.17825735, -0.28900905],\n",
       "        [ 0.31174464, -0.66175035,  0.21368833,  0.08602522],\n",
       "        [ 0.23591976,  0.0404951 , -0.68934172, -0.63934018],\n",
       "        [ 0.54294546,  0.3677716 ,  0.00236267,  0.251786  ],\n",
       "        [-0.54294546, -0.3677716 , -0.00236267, -0.251786  ]]))"
      ]
     },
     "execution_count": 126,
     "metadata": {},
     "output_type": "execute_result"
    }
   ],
   "source": [
    "n_components = 4\n",
    "sorted_indices = np.argsort(eigen_values)[::-1]\n",
    "selected_components = eigen_vectors[:, sorted_indices[:n_components]]\n",
    "sorted_indices , selected_components"
   ]
  },
  {
   "cell_type": "code",
   "execution_count": 127,
   "id": "8ae8b6af",
   "metadata": {},
   "outputs": [
    {
     "data": {
      "text/plain": [
       "array([[-2.44943796,  0.96873775,  0.69438209,  0.61758718],\n",
       "       [-0.99768594, -0.05697322, -1.55541975, -0.9936194 ],\n",
       "       [ 1.73482426,  1.20580258,  1.22510177, -0.6494584 ],\n",
       "       [ 0.05230959, -2.3259015 ,  0.85338355,  0.03370486],\n",
       "       [ 1.65999005,  0.20833439, -1.21744765,  0.99178576]])"
      ]
     },
     "execution_count": 127,
     "metadata": {},
     "output_type": "execute_result"
    }
   ],
   "source": [
    "transformed_data = np.dot(data_scaled, selected_components)\n",
    "\n",
    "transformed_data"
   ]
  },
  {
   "cell_type": "code",
   "execution_count": 128,
   "id": "b2fbd6cd",
   "metadata": {},
   "outputs": [],
   "source": [
    "transformed_df = pd.DataFrame(transformed_data )"
   ]
  },
  {
   "cell_type": "markdown",
   "id": "d443ea5d",
   "metadata": {},
   "source": [
    "so i choose to retain 4 principal components according to the covariance matrix i computed. since those 4 played a huge role in the dataset."
   ]
  },
  {
   "cell_type": "code",
   "execution_count": null,
   "id": "801ac0d7",
   "metadata": {},
   "outputs": [],
   "source": []
  }
 ],
 "metadata": {
  "kernelspec": {
   "display_name": "Python 3 (ipykernel)",
   "language": "python",
   "name": "python3"
  },
  "language_info": {
   "codemirror_mode": {
    "name": "ipython",
    "version": 3
   },
   "file_extension": ".py",
   "mimetype": "text/x-python",
   "name": "python",
   "nbconvert_exporter": "python",
   "pygments_lexer": "ipython3",
   "version": "3.10.9"
  }
 },
 "nbformat": 4,
 "nbformat_minor": 5
}
